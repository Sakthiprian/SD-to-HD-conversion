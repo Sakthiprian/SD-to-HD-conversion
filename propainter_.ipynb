{
  "nbformat": 4,
  "nbformat_minor": 0,
  "metadata": {
    "colab": {
      "provenance": [],
      "gpuType": "T4",
      "authorship_tag": "ABX9TyNdt0eIsZAzLI7sxp3Wj3HZ",
      "include_colab_link": true
    },
    "kernelspec": {
      "name": "python3",
      "display_name": "Python 3"
    },
    "language_info": {
      "name": "python"
    },
    "accelerator": "GPU"
  },
  "cells": [
    {
      "cell_type": "markdown",
      "metadata": {
        "id": "view-in-github",
        "colab_type": "text"
      },
      "source": [
        "<a href=\"https://colab.research.google.com/github/Sakthiprian/SD-to-HD-conversion/blob/main/propainter_.ipynb\" target=\"_parent\"><img src=\"https://colab.research.google.com/assets/colab-badge.svg\" alt=\"Open In Colab\"/></a>"
      ]
    },
    {
      "cell_type": "code",
      "execution_count": null,
      "metadata": {
        "id": "2-PedAm6y1bD"
      },
      "outputs": [],
      "source": [
        "from google.colab import drive\n",
        "drive.mount('/content/drive')"
      ]
    },
    {
      "cell_type": "code",
      "execution_count": null,
      "metadata": {
        "id": "JsI9LmPou9hM"
      },
      "outputs": [],
      "source": [
        "!git clone https://github.com/sczhou/ProPainter.git"
      ]
    },
    {
      "cell_type": "code",
      "execution_count": null,
      "metadata": {
        "id": "aWHfAjIFwOt3"
      },
      "outputs": [],
      "source": [
        "!pip install -q condacolab\n",
        "import condacolab\n",
        "condacolab.install()"
      ]
    },
    {
      "cell_type": "code",
      "execution_count": null,
      "metadata": {
        "id": "aE3xoDNbyYna"
      },
      "outputs": [],
      "source": [
        "# create new anaconda env\n",
        "!conda create -n propainter python=3.8 -y\n",
        "!conda init\n",
        "!conda activate propainter\n",
        "\n",
        "# install python dependencies\n",
        "!pip3 install -r /content/ProPainter/requirements.txt"
      ]
    },
    {
      "cell_type": "code",
      "execution_count": null,
      "metadata": {
        "id": "1JVsMTA6zJf2"
      },
      "outputs": [],
      "source": [
        "!python   /content/ProPainter/inference_propainter.py -i \"/content/drive/MyDrive/conan/rain - Made with Clipchamp(1).mp4\" -o \"/content/drive/MyDrive/conan/results_outpainting\" --mode \"video_outpainting\"  --ref_stride 5 --neighbor_length 5 --resize_ratio 1.777 --height 240 --width 427 --scale_h 1 --scale_w 1.777 --fp16"
      ]
    }
  ]
}